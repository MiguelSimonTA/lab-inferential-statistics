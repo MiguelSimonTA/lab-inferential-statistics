{
 "cells": [
  {
   "cell_type": "code",
   "execution_count": 1,
   "id": "649305d3",
   "metadata": {},
   "outputs": [],
   "source": [
    "import pandas as pd\n",
    "import numpy as np\n",
    "\n",
    "\n",
    "import warnings\n",
    "warnings.filterwarnings('ignore')\n",
    "\n",
    "\n",
    "import matplotlib.pyplot as plt\n",
    "%matplotlib inline\n",
    "\n",
    "\n",
    "import seaborn as sns"
   ]
  },
  {
   "cell_type": "markdown",
   "id": "64f0ea1f",
   "metadata": {},
   "source": [
    "1. It is assumed that the mean systolic blood pressure is `μ = 120 mm Hg`. In the Honolulu Heart Study, a sample of `n = 100` people had an average systolic blood pressure of 130.1 mm Hg with a standard deviation of 21.21 mm Hg. Is the group significantly different (with respect to systolic blood pressure!) from the regular population?\n",
    "\n",
    "   - Set up the hypothesis test.\n",
    "   - Write down all the steps followed for setting up the test.\n",
    "   - Calculate the test statistic. It should be 4.76190. We will take a look at how to make decisions based on this calculated value."
   ]
  },
  {
   "cell_type": "code",
   "execution_count": 9,
   "id": "497e29b4",
   "metadata": {},
   "outputs": [
    {
     "data": {
      "text/plain": [
       "4.761904761904759"
      ]
     },
     "execution_count": 9,
     "metadata": {},
     "output_type": "execute_result"
    }
   ],
   "source": [
    "from scipy.stats import ttest_1samp, ttest_rel, ttest_ind #(ttest rel if they are related and ttest_ind if they are independent)\n",
    "from scipy.stats import f_oneway\n",
    "from scipy.stats import norm\n",
    "from statistics import math\n",
    "\n",
    "\n",
    "n_sample=100\n",
    "pop_mean = 120\n",
    "std_sample = 21.21\n",
    "sample_mean = 130.1\n",
    "\n",
    "# 1. lets det the hypothesis test:\n",
    "# H0 sample_mean=population_mean \n",
    "# H1 sample_mean dif from population_mean\n",
    "\n",
    "# 2.Determine the confidence interval, since this is a medical issue I chose the lowest confidence interval I really need to be sure \n",
    "# alfa=1% \n",
    "\n",
    "# the ideia is to see if the means are diferent so its a 2 sided testing and we are going to have 0,5% to each side. \n",
    "\n",
    "z_score= (sample_mean - pop_mean)/(std_sample/math.sqrt(n_sample))\n",
    "z_score\n"
   ]
  },
  {
   "cell_type": "code",
   "execution_count": 10,
   "id": "2cf10073",
   "metadata": {},
   "outputs": [
    {
     "data": {
      "text/plain": [
       "0.9999990411290555"
      ]
     },
     "execution_count": 10,
     "metadata": {},
     "output_type": "execute_result"
    }
   ],
   "source": [
    "p_value = norm.cdf(z_score)\n",
    "p_value"
   ]
  },
  {
   "cell_type": "code",
   "execution_count": null,
   "id": "e9769ff2",
   "metadata": {},
   "outputs": [],
   "source": [
    "#Since i established a confidence value of 1% we can see the P value is below this value wich would be 0,5% for each side, \n",
    "# being the z_score positive, we can say that the p values is lower on the right side, we can rejet the null hyp wich means \n",
    "# we are 999% confident that the means betweeen population and sample are diferente "
   ]
  }
 ],
 "metadata": {
  "kernelspec": {
   "display_name": "Python 3 (ipykernel)",
   "language": "python",
   "name": "python3"
  },
  "language_info": {
   "codemirror_mode": {
    "name": "ipython",
    "version": 3
   },
   "file_extension": ".py",
   "mimetype": "text/x-python",
   "name": "python",
   "nbconvert_exporter": "python",
   "pygments_lexer": "ipython3",
   "version": "3.9.7"
  }
 },
 "nbformat": 4,
 "nbformat_minor": 5
}
