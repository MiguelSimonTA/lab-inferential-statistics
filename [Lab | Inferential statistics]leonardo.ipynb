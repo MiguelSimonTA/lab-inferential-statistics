{
 "cells": [
  {
   "cell_type": "markdown",
   "id": "e54ed53b",
   "metadata": {},
   "source": [
    "# Lab | Inferential statistics\n",
    "\n",
    "\n",
    "### Instructions\n",
    "\n",
    "1. It is assumed that the mean systolic blood pressure is `μ = 120 mm Hg`. In the Honolulu Heart Study, a sample of `n = 100` people had an average systolic blood pressure of 130.1 mm Hg with a standard deviation of `21.21 mm Hg`. Is the group significantly different (with respect to systolic blood pressure!) from the regular population?\n",
    "\n",
    "   - Set up the hypothesis test.\n",
    "   - Write down all the steps followed for setting up the test.\n",
    "   - Calculate the test statistic. It should be 4.76190. We will take a look at how to make decisions based on this calculated value.\n"
   ]
  },
  {
   "cell_type": "code",
   "execution_count": 5,
   "id": "2ede4129",
   "metadata": {},
   "outputs": [],
   "source": [
    "# Import libraries\n",
    "from statistics import math"
   ]
  },
  {
   "cell_type": "code",
   "execution_count": 9,
   "id": "bc17b2de",
   "metadata": {},
   "outputs": [
    {
     "data": {
      "text/plain": [
       "4.761904761904759"
      ]
     },
     "metadata": {},
     "output_type": "display_data"
    },
    {
     "data": {
      "text/plain": [
       "1.9177418890681253e-06"
      ]
     },
     "metadata": {},
     "output_type": "display_data"
    },
    {
     "name": "stdout",
     "output_type": "stream",
     "text": [
      "Reject the null hypothesis.\n"
     ]
    }
   ],
   "source": [
    "# Hypothesis test\n",
    "sample_mean = 130.1\n",
    "pop_mean = 120\n",
    "pop_std = 21.21\n",
    "n = 100\n",
    "alpha = 0.05\n",
    "\n",
    "# Calculate the z_score\n",
    "z_score = (sample_mean - pop_mean)/(pop_std/math.sqrt(n)) \n",
    "display(z_score) # 4.761904761904759\n",
    "\n",
    "\n",
    "# Calculate the p value\n",
    "p_value = 2 * (1 - norm.cdf(abs(z_score)))\n",
    "display(p_value) # 1.918\n",
    "\n",
    "\n",
    "# Check if p-value is less than alpha for a one-tailed test\n",
    "if p_value < alpha:\n",
    "    print(\"Reject the null hypothesis.\")\n",
    "else:\n",
    "    print(\"Fail to reject the null hypothesis.\")"
   ]
  },
  {
   "cell_type": "markdown",
   "id": "81695cb7",
   "metadata": {},
   "source": [
    "\n",
    "### Hypothesis Test Setup:\n",
    "\n",
    "**State the Hypotheses:**\n",
    "- Null Hypothesis (H0): The mean systolic blood pressure (μ) is 120 mm Hg.\n",
    "- Alternative Hypothesis (H1): The group differs significantly from the regular population in terms of systolic blood pressure (μ ≠ 120 mm Hg).\n",
    "\n",
    "**Type of Test:**\n",
    "- Two-tailed test: Interested in deviations in either direction from the assumed population mean. The significance value will be divided by 2.\n",
    "\n",
    "**Significance Level (α):**\n",
    "- Chosen significance level: 5% (α = 0.05).\n",
    "\n",
    "**Collect and Analyze Data:**\n",
    "- Given data:\n",
    "  - Sample mean (x̄): 130.1 mm Hg.\n",
    "  - Population mean (μ): 120 mm Hg.\n",
    "  - Standard deviation (σ): 21.21 mm Hg.\n",
    "  - Sample size (n): 100.\n",
    "\n",
    "**Calculate the Test Statistic (Z-Score):**\n",
    "\n",
    "**Calculate the P Value\n",
    "\n",
    "\n",
    "### Conclusion:\n",
    "\n",
    "In this case, since the absolute value of the calculated z-score (4.76190) is greater than the critical z-value for a two-tailed test at a 5% significance level (approximately ±1.96), we reject the null hypothesis. This means that we are 95% (1-alpha) confident that the group is significantly different from the regular population.\n",
    "\n",
    "---"
   ]
  },
  {
   "cell_type": "code",
   "execution_count": null,
   "id": "6d9d312c",
   "metadata": {},
   "outputs": [],
   "source": []
  }
 ],
 "metadata": {
  "kernelspec": {
   "display_name": "Python 3 (ipykernel)",
   "language": "python",
   "name": "python3"
  },
  "language_info": {
   "codemirror_mode": {
    "name": "ipython",
    "version": 3
   },
   "file_extension": ".py",
   "mimetype": "text/x-python",
   "name": "python",
   "nbconvert_exporter": "python",
   "pygments_lexer": "ipython3",
   "version": "3.11.4"
  }
 },
 "nbformat": 4,
 "nbformat_minor": 5
}
