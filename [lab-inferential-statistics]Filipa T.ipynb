{
 "cells": [
  {
   "cell_type": "code",
   "execution_count": null,
   "id": "a36e5c97",
   "metadata": {},
   "outputs": [],
   "source": [
    "'''# Lab | Inferential statistics\n",
    "\n",
    "\n",
    "### Instructions\n",
    "\n",
    "1. It is assumed that the mean systolic blood pressure is `μ = 120 mm Hg`. In the Honolulu Heart Study, \n",
    "a sample of `n = 100` people had an average systolic blood pressure of 130.1 mm Hg with a standard deviation of 21.21 mm Hg. \n",
    "Is the group significantly different (with respect to systolic blood pressure!) from the regular population?\n",
    "\n",
    "   - Set up the hypothesis test.\n",
    "   - Write down all the steps followed for setting up the test.\n",
    "   - Calculate the test statistic. It should be 4.76190. \n",
    "   We will take a look at how to make decisions based on this calculated value.'''"
   ]
  },
  {
   "cell_type": "code",
   "execution_count": 3,
   "id": "68cd5561",
   "metadata": {},
   "outputs": [],
   "source": [
    "# Pandas\n",
    "import pandas as pd\n",
    "\n",
    "# Numpy\n",
    "import numpy as np\n",
    "\n",
    "# Remove warnings\n",
    "\n",
    "import warnings\n",
    "warnings.filterwarnings('ignore')\n",
    "\n",
    "# Matplot\n",
    "import matplotlib.pyplot as plt\n",
    "%matplotlib inline\n",
    "\n",
    "# Seaborn\n",
    "import seaborn as sns\n",
    "\n",
    "# These Libs are for stats\n",
    "import statsmodels.api as sm\n",
    "from statsmodels.formula.api import ols\n",
    "\n",
    "from scipy.stats import ttest_1samp, ttest_rel, ttest_ind\n",
    "from scipy.stats import f_oneway\n",
    "from scipy.stats import norm\n",
    "from statistics import math"
   ]
  },
  {
   "cell_type": "code",
   "execution_count": 1,
   "id": "cf9943b7",
   "metadata": {},
   "outputs": [],
   "source": [
    "sample_mean = 130.1\n",
    "pop_mean = 120\n",
    "sample_std = 21.21\n",
    "n = 100\n",
    "\n",
    "# H0 = The systolic blood pressure of the population is equal to the sample\n",
    "# H1 = The systolic blood pressure of the population is different from the sample"
   ]
  },
  {
   "cell_type": "code",
   "execution_count": null,
   "id": "138a6171",
   "metadata": {},
   "outputs": [],
   "source": [
    "'''\n",
    "1) understand the problem\n",
    "2) Formulate null hypothesis\n",
    "3) Formulate alternative hypothesis\n",
    "4) Decide which kind of testing to use\n",
    "5) Define the significance level (alpha)\n",
    "6) Conduct the test\n",
    "7) Compare the p.value with alpha\n",
    "'''"
   ]
  },
  {
   "cell_type": "code",
   "execution_count": 7,
   "id": "e5b51630",
   "metadata": {},
   "outputs": [
    {
     "data": {
      "text/plain": [
       "0.49999952056452773"
      ]
     },
     "execution_count": 7,
     "metadata": {},
     "output_type": "execute_result"
    }
   ],
   "source": [
    "z_score = (sample_mean - pop_mean) / (sample_std/math.sqrt(n))\n",
    "z_score\n",
    "# 4.761904761904759\n",
    "\n",
    "p_value = norm.cdf(z_score)/2\n",
    "p_value"
   ]
  },
  {
   "cell_type": "code",
   "execution_count": null,
   "id": "a8a4310b",
   "metadata": {},
   "outputs": [],
   "source": []
  },
  {
   "cell_type": "code",
   "execution_count": null,
   "id": "38b79440",
   "metadata": {},
   "outputs": [],
   "source": []
  }
 ],
 "metadata": {
  "kernelspec": {
   "display_name": "Python 3 (ipykernel)",
   "language": "python",
   "name": "python3"
  },
  "language_info": {
   "codemirror_mode": {
    "name": "ipython",
    "version": 3
   },
   "file_extension": ".py",
   "mimetype": "text/x-python",
   "name": "python",
   "nbconvert_exporter": "python",
   "pygments_lexer": "ipython3",
   "version": "3.9.13"
  }
 },
 "nbformat": 4,
 "nbformat_minor": 5
}
