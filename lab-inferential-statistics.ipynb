{
 "cells": [
  {
   "cell_type": "markdown",
   "id": "3ab900b1-26ca-4079-b8f0-30e3e5b4bdce",
   "metadata": {},
   "source": [
    "#### Instructions\n",
    "It is assumed that the mean systolic blood pressure is μ = 120 mm Hg. In the Honolulu Heart Study, a sample of n = 100 people had an average systolic blood pressure of 130.1 mm Hg with a standard deviation of 21.21 mm Hg. Is the group significantly different (with respect to systolic blood pressure!) from the regular population?"
   ]
  },
  {
   "cell_type": "code",
   "execution_count": 1,
   "id": "de13fb49-ceae-4e2d-adc1-d995926e261a",
   "metadata": {},
   "outputs": [],
   "source": [
    "from scipy.stats import ttest_1samp, ttest_rel, ttest_ind\n",
    "from scipy.stats import f_oneway\n",
    "from scipy.stats import norm\n",
    "from statistics import math"
   ]
  },
  {
   "cell_type": "code",
   "execution_count": 2,
   "id": "a5ab4b6b-a96e-4cb0-8c48-286cb8732c64",
   "metadata": {},
   "outputs": [],
   "source": [
    "sample_mean = 130.1\n",
    "pop_mean = 120\n",
    "pop_std = 21.21\n",
    "n = 100"
   ]
  },
  {
   "cell_type": "code",
   "execution_count": 3,
   "id": "b2895f1e-f157-4c20-897a-bd56bbfdf8f9",
   "metadata": {},
   "outputs": [
    {
     "data": {
      "text/plain": [
       "4.761904761904759"
      ]
     },
     "execution_count": 3,
     "metadata": {},
     "output_type": "execute_result"
    }
   ],
   "source": [
    "z_score = (sample_mean - pop_mean)/(pop_std/math.sqrt(n)) \n",
    "z_score"
   ]
  },
  {
   "cell_type": "code",
   "execution_count": 4,
   "id": "64754b4a-e8a8-4a8d-b852-b67e1d78c183",
   "metadata": {},
   "outputs": [
    {
     "data": {
      "text/plain": [
       "0.9999990411290555"
      ]
     },
     "execution_count": 4,
     "metadata": {},
     "output_type": "execute_result"
    }
   ],
   "source": [
    "p_value = norm.cdf(z_score)\n",
    "p_value"
   ]
  },
  {
   "cell_type": "markdown",
   "id": "821c422f-9517-4767-b2fd-70ddd208040e",
   "metadata": {},
   "source": [
    "####\n",
    "Since 99% falls in the Critical Region and is higher than alfa of 95%, so we reject the null hypothesis. \n",
    "What means that we are 99% sure that the mean of systolic blood pressure is higher than μ = 120 mm Hg."
   ]
  },
  {
   "cell_type": "code",
   "execution_count": null,
   "id": "36e4f6af-4115-406f-87d6-8fbd1d156287",
   "metadata": {},
   "outputs": [],
   "source": []
  },
  {
   "cell_type": "code",
   "execution_count": null,
   "id": "31cc0e58-ee31-4557-917a-e4f8f20a792f",
   "metadata": {},
   "outputs": [],
   "source": []
  }
 ],
 "metadata": {
  "kernelspec": {
   "display_name": "Python 3 (ipykernel)",
   "language": "python",
   "name": "python3"
  },
  "language_info": {
   "codemirror_mode": {
    "name": "ipython",
    "version": 3
   },
   "file_extension": ".py",
   "mimetype": "text/x-python",
   "name": "python",
   "nbconvert_exporter": "python",
   "pygments_lexer": "ipython3",
   "version": "3.11.7"
  }
 },
 "nbformat": 4,
 "nbformat_minor": 5
}
