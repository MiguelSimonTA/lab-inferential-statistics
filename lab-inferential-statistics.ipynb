{
 "cells": [
  {
   "cell_type": "code",
   "execution_count": null,
   "id": "6882f4cc",
   "metadata": {},
   "outputs": [],
   "source": [
    "import pandas as pd\n",
    "import numpy as np\n",
    "\n",
    "import warnings\n",
    "warnings.filterwarnings('ignore')\n",
    "\n",
    "import matplotlib.pyplot as plt\n",
    "import seaborn as sns\n",
    "\n",
    "\n",
    "# Importing Libs\n",
    "from scipy.stats import ttest_1samp, ttest_rel, ttest_ind\n",
    "from scipy.stats import f_oneway\n",
    "from scipy.stats import norm\n",
    "\n",
    "from statistics import math"
   ]
  },
  {
   "cell_type": "code",
   "execution_count": null,
   "id": "127fbff8",
   "metadata": {},
   "outputs": [],
   "source": [
    "''' \n",
    "\n",
    "It is assumed that the mean systolic blood pressure is μ = 120 mm Hg. \n",
    "In the Honolulu Heart Study, a sample of n = 100 people had an average systolic \n",
    "blood pressure of 130.1 mm Hg with a standard deviation of 21.21 mm Hg. \n",
    "Is the group significantly different (with respect to systolic blood pressure!) from the regular population?\n",
    "\n",
    "1. Set up the hypothesis test.\n",
    "2. Write down all the steps followed for setting up the test.\n",
    "3. Calculate the test statistic. It should be 4.76190. We will take a look\n",
    "at how to make decisions based on this calculated value.\n",
    "\n",
    "\n",
    "'''"
   ]
  },
  {
   "cell_type": "code",
   "execution_count": null,
   "id": "4dd46164",
   "metadata": {},
   "outputs": [],
   "source": [
    "H₀  = 120\n",
    "H₁ = 130.1\n",
    "α = 0.05\n",
    "n = 100\n",
    "σ = 21.21\n",
    "\n",
    "\n",
    "\n",
    "sample_mean = 130.1\n",
    "pop_mean = 120\n",
    "pop_std = 21.21\n",
    "n = 100\n",
    "α = 0.05\n",
    "\n",
    "# Calculate the z_score\n",
    "z_score = (sample_mean - pop_mean)/(pop_std/math.sqrt(n)) # differences in mean / standard error\n",
    "z_score\n",
    "\n",
    "# Calculate the p value\n",
    "p_value = norm.cdf(z_score)\n",
    "p_value"
   ]
  },
  {
   "cell_type": "code",
   "execution_count": null,
   "id": "a99e7d59",
   "metadata": {},
   "outputs": [],
   "source": [
    "z_score"
   ]
  },
  {
   "cell_type": "code",
   "execution_count": null,
   "id": "51e21dc2",
   "metadata": {},
   "outputs": [],
   "source": [
    "# Since p_value = 99% we can reject the null hypothesis"
   ]
  },
  {
   "cell_type": "code",
   "execution_count": null,
   "id": "4b1eb383",
   "metadata": {},
   "outputs": [],
   "source": []
  }
 ],
 "metadata": {
  "kernelspec": {
   "display_name": "Python 3 (ipykernel)",
   "language": "python",
   "name": "python3"
  },
  "language_info": {
   "codemirror_mode": {
    "name": "ipython",
    "version": 3
   },
   "file_extension": ".py",
   "mimetype": "text/x-python",
   "name": "python",
   "nbconvert_exporter": "python",
   "pygments_lexer": "ipython3",
   "version": "3.11.5"
  }
 },
 "nbformat": 4,
 "nbformat_minor": 5
}
