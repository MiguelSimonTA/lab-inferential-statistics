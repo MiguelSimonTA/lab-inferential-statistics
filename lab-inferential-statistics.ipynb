{
 "cells": [
  {
   "cell_type": "code",
   "execution_count": 1,
   "id": "c32a5800",
   "metadata": {},
   "outputs": [],
   "source": [
    "import pandas as pd\n",
    "import numpy as np\n",
    "\n",
    "import warnings\n",
    "warnings.filterwarnings('ignore')\n",
    "\n",
    "import matplotlib.pyplot as plt\n",
    "import seaborn as sns\n",
    "\n",
    "from scipy.stats import ttest_1samp, ttest_rel, ttest_ind\n",
    "from scipy.stats import f_oneway\n",
    "from scipy.stats import norm\n",
    "from statistics import math"
   ]
  },
  {
   "cell_type": "code",
   "execution_count": 2,
   "id": "e26ba2e0",
   "metadata": {},
   "outputs": [
    {
     "name": "stdout",
     "output_type": "stream",
     "text": [
      "z-score: 4.761904761904759\n",
      "p-value: 1.9177418890681253e-06\n"
     ]
    }
   ],
   "source": [
    "#H0: mean of the population = 120 vs. H1: mean of the population != 120\n",
    "\n",
    "sample_mean = 130.1\n",
    "h0_mean = 120\n",
    "sample_std = 21.21\n",
    "n = 100\n",
    "\n",
    "z_score = (sample_mean - h0_mean) / (sample_std/math.sqrt(n))\n",
    "print('z-score:',z_score)\n",
    "\n",
    "p_value = 2*(1-norm.cdf(z_score))\n",
    "print('p-value:', p_value)"
   ]
  }
 ],
 "metadata": {
  "kernelspec": {
   "display_name": "Python 3 (ipykernel)",
   "language": "python",
   "name": "python3"
  },
  "language_info": {
   "codemirror_mode": {
    "name": "ipython",
    "version": 3
   },
   "file_extension": ".py",
   "mimetype": "text/x-python",
   "name": "python",
   "nbconvert_exporter": "python",
   "pygments_lexer": "ipython3",
   "version": "3.11.5"
  }
 },
 "nbformat": 4,
 "nbformat_minor": 5
}
