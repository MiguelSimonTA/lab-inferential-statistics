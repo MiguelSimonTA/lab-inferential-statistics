{
 "cells": [
  {
   "cell_type": "code",
   "execution_count": 1,
   "id": "aa48dcb9-8328-4b33-977b-2cb9c527ef5a",
   "metadata": {},
   "outputs": [],
   "source": [
    "from scipy.stats import ttest_1samp, ttest_rel, ttest_ind\n",
    "from scipy.stats import f_oneway\n",
    "from scipy.stats import norm\n",
    "\n",
    "from statistics import math"
   ]
  },
  {
   "cell_type": "code",
   "execution_count": null,
   "id": "40379964-08e4-4b64-9fc4-c4affeda53de",
   "metadata": {},
   "outputs": [],
   "source": [
    "#Step 1: State the Null Hypothesis\n",
    "#Step 2: State the Alternative Hypothesis.\n",
    "#Step 3: Set α\n",
    "#Step 4: Collect Data.\n",
    "#Step 5: Calculate a test statistic.\n",
    "#Step 6: Construct Acceptance / Rejection regions.\n",
    "#Step 7: Based on steps 5 and 6, draw a conclusion about H0."
   ]
  },
  {
   "cell_type": "code",
   "execution_count": null,
   "id": "71521c97-7af7-458e-8ae3-995885d56963",
   "metadata": {},
   "outputs": [],
   "source": [
    "#h0 = 120\n",
    "#h1 = <120\n",
    "#α = 5%\n",
    "#n = 100\n",
    "#μ = 130.1\n",
    "#σ = 21.21"
   ]
  },
  {
   "cell_type": "code",
   "execution_count": 2,
   "id": "dbd614f8-8263-4c30-afd1-79172898ff4b",
   "metadata": {},
   "outputs": [
    {
     "data": {
      "text/plain": [
       "4.761904761904759"
      ]
     },
     "execution_count": 2,
     "metadata": {},
     "output_type": "execute_result"
    }
   ],
   "source": [
    "sample_mean = 130.1\n",
    "pop_mean = 120\n",
    "pop_std = 21.21\n",
    "n = 100\n",
    "\n",
    "z_score = (sample_mean - pop_mean)/(pop_std/math.sqrt(n))\n",
    "z_score\n"
   ]
  },
  {
   "cell_type": "code",
   "execution_count": 3,
   "id": "21a664d1-10e2-45be-b371-614852ad583c",
   "metadata": {},
   "outputs": [
    {
     "data": {
      "text/plain": [
       "0.9999990411290555"
      ]
     },
     "execution_count": 3,
     "metadata": {},
     "output_type": "execute_result"
    }
   ],
   "source": [
    "p_value = norm.cdf(z_score)\n",
    "p_value"
   ]
  },
  {
   "cell_type": "code",
   "execution_count": 6,
   "id": "0ab14126-1e16-4e9d-8543-e378db7f3da5",
   "metadata": {},
   "outputs": [
    {
     "name": "stdout",
     "output_type": "stream",
     "text": [
      "Reject the null hypothesis.\n"
     ]
    }
   ],
   "source": [
    "alpha = 0.05\n",
    "\n",
    "# Check if p-value is less than alpha for a one-tailed test\n",
    "if p_value > 1 - alpha:\n",
    "    print(\"Reject the null hypothesis.\")\n",
    "else:\n",
    "    print(\"Fail to reject the null hypothesis.\")"
   ]
  }
 ],
 "metadata": {
  "kernelspec": {
   "display_name": "Python 3 (ipykernel)",
   "language": "python",
   "name": "python3"
  },
  "language_info": {
   "codemirror_mode": {
    "name": "ipython",
    "version": 3
   },
   "file_extension": ".py",
   "mimetype": "text/x-python",
   "name": "python",
   "nbconvert_exporter": "python",
   "pygments_lexer": "ipython3",
   "version": "3.11.7"
  }
 },
 "nbformat": 4,
 "nbformat_minor": 5
}
