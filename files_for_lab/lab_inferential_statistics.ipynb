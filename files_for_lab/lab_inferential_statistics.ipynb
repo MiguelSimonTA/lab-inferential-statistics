{
 "cells": [
  {
   "cell_type": "markdown",
   "id": "b25274ba",
   "metadata": {},
   "source": [
    "# Lab | Inferential Statistics"
   ]
  },
  {
   "cell_type": "code",
   "execution_count": 1,
   "id": "c8571cf5",
   "metadata": {},
   "outputs": [],
   "source": [
    "import math"
   ]
  },
  {
   "cell_type": "code",
   "execution_count": 2,
   "id": "1b4c4f2b",
   "metadata": {},
   "outputs": [],
   "source": [
    "\n",
    "# Instructions\n",
    "# It is assumed that the mean systolic blood pressure is μ = 120 mm Hg. \n",
    "# In the Honolulu Heart Study, a sample of n = 100 people had an average systolic blood pressure of 130.1 mm Hg with a standard deviation of 21.21 mm Hg. \n",
    "# Is the group significantly different (with respect to systolic blood pressure!) from the regular population?\n",
    "\n",
    "# Set up the hypothesis test.\n",
    "# Write down all the steps followed for setting up the test.\n",
    "# Calculate the test statistic. \n",
    "# It should be 4.76190. We will take a look at how to make decisions based on this calculated value."
   ]
  },
  {
   "cell_type": "code",
   "execution_count": null,
   "id": "f63b1877",
   "metadata": {},
   "outputs": [],
   "source": [
    "# Set up the hypothesis test.\n",
    "# Null Hypothesis (H0): the mean systolic blood pressure between both samples is not statistically significant.\n",
    "# Alternative Hypothesis (H1): the mean systolic blook pressure difference between both sample is statistically significant."
   ]
  },
  {
   "cell_type": "code",
   "execution_count": 3,
   "id": "bec01b94",
   "metadata": {},
   "outputs": [],
   "source": [
    "# Calculate the test statistic (z-score). \n",
    "n = 100\n",
    "pop_mean = 120\n",
    "sample_mean = 130.1\n",
    "pop_std = 21.21"
   ]
  },
  {
   "cell_type": "code",
   "execution_count": 4,
   "id": "fe98cfeb",
   "metadata": {},
   "outputs": [
    {
     "data": {
      "text/plain": [
       "4.761904761904759"
      ]
     },
     "execution_count": 4,
     "metadata": {},
     "output_type": "execute_result"
    }
   ],
   "source": [
    "z_score = (sample_mean - pop_mean) / (pop_std / math.sqrt(n))\n",
    "z_score"
   ]
  },
  {
   "cell_type": "code",
   "execution_count": null,
   "id": "4299533c",
   "metadata": {},
   "outputs": [],
   "source": []
  },
  {
   "cell_type": "code",
   "execution_count": null,
   "id": "6f711670",
   "metadata": {},
   "outputs": [],
   "source": []
  },
  {
   "cell_type": "code",
   "execution_count": null,
   "id": "3f1248c5",
   "metadata": {},
   "outputs": [],
   "source": []
  },
  {
   "cell_type": "code",
   "execution_count": null,
   "id": "8767158d",
   "metadata": {},
   "outputs": [],
   "source": []
  }
 ],
 "metadata": {
  "kernelspec": {
   "display_name": "Python 3 (ipykernel)",
   "language": "python",
   "name": "python3"
  },
  "language_info": {
   "codemirror_mode": {
    "name": "ipython",
    "version": 3
   },
   "file_extension": ".py",
   "mimetype": "text/x-python",
   "name": "python",
   "nbconvert_exporter": "python",
   "pygments_lexer": "ipython3",
   "version": "3.9.13"
  }
 },
 "nbformat": 4,
 "nbformat_minor": 5
}
