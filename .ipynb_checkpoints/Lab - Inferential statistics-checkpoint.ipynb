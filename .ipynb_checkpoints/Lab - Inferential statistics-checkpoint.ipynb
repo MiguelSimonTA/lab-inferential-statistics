{
 "cells": [
  {
   "cell_type": "code",
   "execution_count": 1,
   "id": "3d3bfdec",
   "metadata": {},
   "outputs": [],
   "source": [
    "from statistics import math"
   ]
  },
  {
   "cell_type": "code",
   "execution_count": 2,
   "id": "2f08a69a",
   "metadata": {},
   "outputs": [
    {
     "name": "stdout",
     "output_type": "stream",
     "text": [
      "4.761904761904759\n"
     ]
    }
   ],
   "source": [
    "pop_mean = 120\n",
    "study_mean = 130.1\n",
    "study_std = 21.21\n",
    "n = 100\n",
    "\n",
    "statistic = (study_mean - pop_mean) / (study_std/math.sqrt(n))\n",
    "print(statistic)"
   ]
  },
  {
   "cell_type": "code",
   "execution_count": null,
   "id": "55644f2f",
   "metadata": {},
   "outputs": [],
   "source": []
  }
 ],
 "metadata": {
  "kernelspec": {
   "display_name": "Python 3 (ipykernel)",
   "language": "python",
   "name": "python3"
  },
  "language_info": {
   "codemirror_mode": {
    "name": "ipython",
    "version": 3
   },
   "file_extension": ".py",
   "mimetype": "text/x-python",
   "name": "python",
   "nbconvert_exporter": "python",
   "pygments_lexer": "ipython3",
   "version": "3.9.13"
  }
 },
 "nbformat": 4,
 "nbformat_minor": 5
}
