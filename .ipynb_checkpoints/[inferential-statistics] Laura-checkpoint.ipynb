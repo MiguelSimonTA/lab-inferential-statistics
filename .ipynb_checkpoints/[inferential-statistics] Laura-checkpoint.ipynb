{
 "cells": [
  {
   "cell_type": "code",
   "execution_count": 3,
   "id": "d6260f0e",
   "metadata": {},
   "outputs": [],
   "source": [
    "# Libaries\n",
    "import warnings\n",
    "warnings.filterwarnings('ignore')\n",
    "\n",
    "import pandas as pd\n",
    "import numpy as np\n",
    "\n",
    "from scipy.stats import ttest_1samp, ttest_rel, ttest_ind\n",
    "from scipy.stats import f_oneway\n",
    "from scipy.stats import norm\n",
    "from statistics import math"
   ]
  },
  {
   "cell_type": "code",
   "execution_count": 4,
   "id": "3314f001",
   "metadata": {},
   "outputs": [
    {
     "data": {
      "text/plain": [
       "'\\nIt is assumed that the mean systolic blood pressure is μ = 120 mm Hg. In the Honolulu Heart Study, a sample of n = 100 \\npeople had an average systolic blood pressure of 130.1 mm Hg with a standard deviation of 21.21 mm Hg. Is the group \\nsignificantly different (with respect to systolic blood pressure!) from the regular population?\\n\\nSet up the hypothesis test.\\nWrite down all the steps followed for setting up the test.\\nCalculate the test statistic. \\nIt should be 4.76190. We will take a look at how to make decisions based on this calculated value.\\n'"
      ]
     },
     "execution_count": 4,
     "metadata": {},
     "output_type": "execute_result"
    }
   ],
   "source": [
    "# Exercise\n",
    "'''\n",
    "It is assumed that the mean systolic blood pressure is μ = 120 mm Hg. In the Honolulu Heart Study, a sample of n = 100 \n",
    "people had an average systolic blood pressure of 130.1 mm Hg with a standard deviation of 21.21 mm Hg. Is the group \n",
    "significantly different (with respect to systolic blood pressure!) from the regular population?\n",
    "\n",
    "Set up the hypothesis test.\n",
    "Write down all the steps followed for setting up the test.\n",
    "Calculate the test statistic. \n",
    "It should be 4.76190. We will take a look at how to make decisions based on this calculated value.\n",
    "'''"
   ]
  },
  {
   "cell_type": "code",
   "execution_count": null,
   "id": "0afe5521",
   "metadata": {},
   "outputs": [],
   "source": [
    "# Steps:\n",
    "'''\n",
    "H0: µp = µs\n",
    "H1: µp != µs\n",
    "\n",
    "a = 0.05\n",
    "'''"
   ]
  },
  {
   "cell_type": "code",
   "execution_count": 12,
   "id": "de154efb",
   "metadata": {},
   "outputs": [],
   "source": [
    "# Test-Setup\n",
    "sample_mean = 130.1\n",
    "pop_mean = 120\n",
    "pop_std = 21.21\n",
    "n = 100\n",
    "\n",
    "# calculating z_score\n",
    "z_score = (sample_mean - pop_mean) / (pop_std/math.sqrt(n))\n",
    "# 4.761904761904759\n",
    "\n",
    "# calculating p_value\n",
    "p_value = norm.cdf(z_score)/2 #two-tailed test\n",
    "#0.49999952056452773"
   ]
  },
  {
   "cell_type": "code",
   "execution_count": null,
   "id": "b189cbe1",
   "metadata": {},
   "outputs": [],
   "source": [
    "# Interpretation\n",
    "'''\n",
    "Since the p_value is > than a (0.05), I'm accepting H0 and assuming with 95 % certainty that the true µp is not \n",
    "significantly different between the normal population and the honolulu population.\n",
    "'''"
   ]
  }
 ],
 "metadata": {
  "kernelspec": {
   "display_name": "Python 3 (ipykernel)",
   "language": "python",
   "name": "python3"
  },
  "language_info": {
   "codemirror_mode": {
    "name": "ipython",
    "version": 3
   },
   "file_extension": ".py",
   "mimetype": "text/x-python",
   "name": "python",
   "nbconvert_exporter": "python",
   "pygments_lexer": "ipython3",
   "version": "3.9.7"
  }
 },
 "nbformat": 4,
 "nbformat_minor": 5
}
