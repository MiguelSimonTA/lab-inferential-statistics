{
 "cells": [
  {
   "cell_type": "code",
   "execution_count": 1,
   "id": "e1ab7c95",
   "metadata": {},
   "outputs": [],
   "source": [
    "import pandas as pd\n",
    "import numpy as np\n",
    "import warnings\n",
    "warnings.filterwarnings('ignore')\n",
    "\n",
    "import matplotlib.pyplot as plt\n",
    "import seaborn as sns"
   ]
  },
  {
   "cell_type": "code",
   "execution_count": 3,
   "id": "12a0b904",
   "metadata": {},
   "outputs": [],
   "source": [
    "breast_can = pd.read_csv(\"/Users/giacomorossini/Desktop/IRONHACK/Laboratory/LAB3.2/lab-inferential-statistics/files_for_lab/principal_component_analysis_example/breast-cancer.csv\")"
   ]
  },
  {
   "cell_type": "code",
   "execution_count": 5,
   "id": "402c78a5",
   "metadata": {},
   "outputs": [
    {
     "data": {
      "text/plain": [
       "'\\n\\n It is assumed that the mean systolic blood pressure is `μ = 120 mm Hg`. In the Honolulu Heart Study, a sample of `n = 100` people had an average systolic blood pressure of 130.1 mm Hg with a standard deviation of 21.21 mm Hg. Is the group significantly different (with respect to systolic blood pressure!) from the regular population?\\n\\n   - Set up the hypothesis test.\\n   - Write down all the steps followed for setting up the test.\\n   - Calculate the test statistic. It should be 4.76190. We will take a look at how to make decisions based on this calculated value.\\n\\n\\n'"
      ]
     },
     "execution_count": 5,
     "metadata": {},
     "output_type": "execute_result"
    }
   ],
   "source": [
    "'''\n",
    "\n",
    " It is assumed that the mean systolic blood pressure is `μ = 120 mm Hg`. In the Honolulu Heart Study, \n",
    " a sample of `n = 100` people had an average systolic blood pressure of 130.1 mm Hg with a standard deviation of 21.21 mm Hg. \n",
    " Is the group significantly different (with respect to systolic blood pressure!) from the regular population?\n",
    "\n",
    "   - Set up the hypothesis test.\n",
    "   - Write down all the steps followed for setting up the test.\n",
    "   - Calculate the test statistic. It should be 4.76190. We will take a look at how to make decisions based on \n",
    "       this calculated value.\n",
    "\n",
    "'''"
   ]
  },
  {
   "cell_type": "code",
   "execution_count": 11,
   "id": "9685d559",
   "metadata": {},
   "outputs": [],
   "source": [
    "sample_mean= 130.1\n",
    "pop_mean=120\n",
    "pop_std=21.21 # i don't have std dev of population but my sample numb is >30 so i assume that stad dev pop = stand dev sample\n",
    "n=100\n",
    "alpha=0.05"
   ]
  },
  {
   "cell_type": "code",
   "execution_count": 15,
   "id": "6cf5773c",
   "metadata": {},
   "outputs": [
    {
     "name": "stdout",
     "output_type": "stream",
     "text": [
      "4.761904761904759\n",
      "0.9999990411290555\n",
      "Since p-value < significance value (5% predifined) we reject the null Hypotesis which means we are 95% sure/confident that the true pop mean is > than 120 mm Hg\n"
     ]
    }
   ],
   "source": [
    "from statistics import math\n",
    "from scipy.stats import norm\n",
    "'''\n",
    "H0 mean_pop=120\n",
    "H1 mean_pop>130.1\n",
    "alpha=5% or 1.64\n",
    "'''\n",
    "\n",
    "#usar Z-score bcs i have >30 samples \n",
    "\n",
    "z_score= (sample_mean-pop_mean)/ (pop_std/math.sqrt(n)) #= 4.76\n",
    "p_value = norm.cdf(z_score) #0.99999 = norm.cdf(z_score)=close to 0\n",
    "\n",
    "print(z_score)\n",
    "print(p_value)\n",
    "\n",
    "if alpha < p_value:\n",
    "    print(\"Since p-value < significance value (5% predifined) we reject the null Hypotesis which means we are 95% sure/confident that the true pop mean is > than 120 mm Hg\")\n",
    "else:\n",
    "    print(\"Since p-value> alpha we don't reject the H0 so we don't have evidence that difference between population and sample means\")"
   ]
  }
 ],
 "metadata": {
  "kernelspec": {
   "display_name": "Python 3 (ipykernel)",
   "language": "python",
   "name": "python3"
  },
  "language_info": {
   "codemirror_mode": {
    "name": "ipython",
    "version": 3
   },
   "file_extension": ".py",
   "mimetype": "text/x-python",
   "name": "python",
   "nbconvert_exporter": "python",
   "pygments_lexer": "ipython3",
   "version": "3.11.5"
  }
 },
 "nbformat": 4,
 "nbformat_minor": 5
}
