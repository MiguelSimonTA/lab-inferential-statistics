{
 "cells": [
  {
   "cell_type": "code",
   "execution_count": 1,
   "id": "e1bdf66b-6cb1-4781-89c8-d1c13d86f9df",
   "metadata": {},
   "outputs": [],
   "source": [
    "import pandas as pd\n",
    "import numpy as np\n",
    "\n",
    "import warnings \n",
    "warnings.filterwarnings('ignore')\n",
    "\n",
    "import matplotlib.pyplot as plt \n",
    "import seaborn as sns"
   ]
  },
  {
   "cell_type": "code",
   "execution_count": 2,
   "id": "cfd68244-d6a4-43d7-84a8-3f74ebdb70e2",
   "metadata": {},
   "outputs": [],
   "source": [
    "data = pd.read_csv(r'C:\\Users\\Quaresma\\Documents\\IRONHACK\\Labs\\33 lab-inferential-statistics\\files_for_lab\\principal_component_analysis_example\\breast-cancer.csv')\n"
   ]
  },
  {
   "cell_type": "code",
   "execution_count": 4,
   "id": "9b8b7a32-41e7-48b4-9211-3f8342c0cee8",
   "metadata": {},
   "outputs": [
    {
     "data": {
      "text/plain": [
       "'\\nIt is assumed that the mean systolic blood pressure is μ = 120 mm Hg. In the Honolulu Heart Study, a sample of n = 100 people had an \\naverage systolic blood pressure of 130.1 mm Hg with a standard deviation of 21.21 mm Hg. \\nIs the group significantly different (with respect to systolic blood pressure!) from the regular population?\\n\\nSet up the hypothesis test.\\nWrite down all the steps followed for setting up the test.\\nCalculate the test statistic. It should be 4.76190. We will take a look at how to make decisions based on this calculated value.\\n'"
      ]
     },
     "execution_count": 4,
     "metadata": {},
     "output_type": "execute_result"
    }
   ],
   "source": [
    "'''\n",
    "It is assumed that the mean systolic blood pressure is μ = 120 mm Hg. In the Honolulu Heart Study, a sample of n = 100 people had an \n",
    "average systolic blood pressure of 130.1 mm Hg with a standard deviation of 21.21 mm Hg. \n",
    "Is the group significantly different (with respect to systolic blood pressure!) from the regular population?\n",
    "\n",
    "Set up the hypothesis test.\n",
    "Write down all the steps followed for setting up the test.\n",
    "Calculate the test statistic. It should be 4.76190. We will take a look at how to make decisions based on this calculated value.\n",
    "'''"
   ]
  },
  {
   "cell_type": "code",
   "execution_count": 9,
   "id": "a45e4fe7-ae89-4cbc-b7ad-5fb6837a7bac",
   "metadata": {},
   "outputs": [
    {
     "name": "stdout",
     "output_type": "stream",
     "text": [
      "4.761904761904759\n",
      "0.9999990411290555\n",
      "Since p-value is higher than the significance value we do not reject the null hypothesis, which means that we dont have evidence of differences between the sample and the population the means\n"
     ]
    }
   ],
   "source": [
    "from scipy.stats import ttest_1samp,ttest_rel,ttest_ind\n",
    "from scipy.stats import f_oneway\n",
    "from scipy.stats import norm\n",
    "\n",
    "from statistics import math\n",
    "\n",
    "#Ho: µp = µs\n",
    "#H1: µp < µs\n",
    "\n",
    "sample_mean = 130.1\n",
    "pop_mean= 120\n",
    "pop_std = 21.21\n",
    "n = 100\n",
    "\n",
    "z_score = (sample_mean - pop_mean)/(pop_std/math.sqrt(n))\n",
    "print(z_score)\n",
    "\n",
    "p_value = norm.cdf(z_score)\n",
    "print(p_value)\n",
    "\n",
    "a=0.05\n",
    "if p_value < a:\n",
    "    print(\"Since p-value is lower than the significance value we reject the null hypothesis, which means that we are 95% sure/confident that the average systolic blood pressure of the honolulu hospital is higher than 120 mm Hg\")\n",
    "else:\n",
    "    print(\"Since p-value is higher than the significance value we do not reject the null hypothesis, which means that we dont have evidence of differences between the sample and the population the means\")\n",
    "    "
   ]
  },
  {
   "cell_type": "code",
   "execution_count": null,
   "id": "6f7b88ab-6bd2-4cb5-b97d-7214969393bc",
   "metadata": {},
   "outputs": [],
   "source": []
  }
 ],
 "metadata": {
  "kernelspec": {
   "display_name": "Python 3 (ipykernel)",
   "language": "python",
   "name": "python3"
  },
  "language_info": {
   "codemirror_mode": {
    "name": "ipython",
    "version": 3
   },
   "file_extension": ".py",
   "mimetype": "text/x-python",
   "name": "python",
   "nbconvert_exporter": "python",
   "pygments_lexer": "ipython3",
   "version": "3.10.9"
  }
 },
 "nbformat": 4,
 "nbformat_minor": 5
}
