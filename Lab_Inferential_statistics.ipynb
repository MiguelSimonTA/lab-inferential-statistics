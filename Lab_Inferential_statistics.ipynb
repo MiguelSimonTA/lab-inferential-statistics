{
 "cells": [
  {
   "cell_type": "code",
   "execution_count": null,
   "metadata": {},
   "outputs": [],
   "source": [
    "\n",
    "\n",
    "import pandas as pd\n",
    "import numpy as np\n",
    "\n",
    "import warnings\n",
    "warnings.filterwarnings('ignore')\n",
    "\n",
    "import matplotlib.pyplot as plt\n",
    "import seaborn as sns"
   ]
  },
  {
   "cell_type": "code",
   "execution_count": null,
   "metadata": {},
   "outputs": [],
   "source": [
    "# set up the hypethesis analysis \n",
    "\n",
    "# the hypothesis  Is the group significantly different  from the regular population?\n",
    "\n",
    "# meaning \n",
    "\n",
    "# Z-score\n",
    "# H0: mean of the population = mean of the sample\n",
    "# H1: mean of the population != mean of the sample (2 tails)\n",
    "# alpha = 5% \n",
    "\n",
    "# h0 is = 120\n",
    "# h1 is = ! 130.1\n",
    "\n",
    "# so we gone compare mean sample vs mean pop in hypthesis test\n",
    "\n",
    "mean_pop = 120\n",
    "\n",
    "mean_sample = 130.1\n",
    "\n",
    "n = 100 \n",
    "\n",
    "sample_std = 21.21\n",
    "\n"
   ]
  },
  {
   "cell_type": "code",
   "execution_count": 5,
   "metadata": {},
   "outputs": [
    {
     "data": {
      "text/plain": [
       "4.761904761904759"
      ]
     },
     "execution_count": 5,
     "metadata": {},
     "output_type": "execute_result"
    }
   ],
   "source": [
    "# Importing Libs\n",
    "from scipy.stats import ttest_1samp, ttest_rel, ttest_ind\n",
    "from scipy.stats import f_oneway\n",
    "from scipy.stats import norm\n",
    "from statistics import math\n",
    "\n",
    "\n",
    "\n",
    "# setting up value to be used for analysis ,meand, std deviation ect ... \n",
    "\n",
    "sample_mean = 130.1\n",
    "pop_mean = 120\n",
    "pop_std = 21.21\n",
    "n = 100\n",
    "\n",
    "# calculating Z-score \n",
    "\n",
    "Z_score = (sample_mean - pop_mean) / (pop_std/math.sqrt(n))\n",
    "Z_score\n",
    "\n",
    "\n",
    "\n"
   ]
  },
  {
   "cell_type": "code",
   "execution_count": 7,
   "metadata": {},
   "outputs": [
    {
     "data": {
      "text/plain": [
       "1.9177418890681253e-06"
      ]
     },
     "execution_count": 7,
     "metadata": {},
     "output_type": "execute_result"
    }
   ],
   "source": [
    "p_value = 1-abs(1-2*norm.cdf(Z_score)) # 2 tails\n",
    "p_value\n",
    "\n",
    "# Since the p value is lower than the  5%,(0.00000197) we reject the null hypothesis.\n",
    "# Which means that we are 95% (1-alpha) confident that the group is different from the regular population."
   ]
  },
  {
   "cell_type": "code",
   "execution_count": null,
   "metadata": {},
   "outputs": [],
   "source": []
  },
  {
   "cell_type": "code",
   "execution_count": null,
   "metadata": {},
   "outputs": [],
   "source": []
  },
  {
   "cell_type": "code",
   "execution_count": null,
   "metadata": {},
   "outputs": [],
   "source": []
  },
  {
   "cell_type": "code",
   "execution_count": null,
   "metadata": {},
   "outputs": [],
   "source": []
  }
 ],
 "metadata": {
  "kernelspec": {
   "display_name": "base",
   "language": "python",
   "name": "python3"
  },
  "language_info": {
   "codemirror_mode": {
    "name": "ipython",
    "version": 3
   },
   "file_extension": ".py",
   "mimetype": "text/x-python",
   "name": "python",
   "nbconvert_exporter": "python",
   "pygments_lexer": "ipython3",
   "version": "3.11.6"
  }
 },
 "nbformat": 4,
 "nbformat_minor": 2
}
