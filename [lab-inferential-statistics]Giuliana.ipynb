{
 "cells": [
  {
   "cell_type": "markdown",
   "id": "fe973e1e",
   "metadata": {},
   "source": [
    "It is assumed that the mean systolic blood pressure is μ = 120 mm Hg. In the Honolulu Heart Study, a sample of n = 100 people had an average systolic blood pressure of 130.1 mm Hg with a standard deviation of 21.21 mm Hg. Is the group significantly different (with respect to systolic blood pressure!) from the regular population?\n",
    "\n",
    "Set up the hypothesis test.\n",
    "Write down all the steps followed for setting up the test.\n",
    "Calculate the test statistic. It should be 4.76190. We will take a look at how to make decisions based on this calculated value."
   ]
  },
  {
   "cell_type": "code",
   "execution_count": 1,
   "id": "641bb09a",
   "metadata": {},
   "outputs": [],
   "source": [
    "import pandas as pd\n",
    "import numpy as np\n",
    "\n",
    "import warnings\n",
    "warnings.filterwarnings('ignore')\n",
    "\n",
    "import statsmodels.api as sm\n",
    "from statsmodels.formula.api import ols\n",
    "from scipy.stats import ttest_1samp, ttest_rel, ttest_ind\n",
    "from scipy.stats import f_oneway\n",
    "from scipy.stats import norm\n",
    "from statistics import math"
   ]
  },
  {
   "cell_type": "code",
   "execution_count": null,
   "id": "79f8ac5b",
   "metadata": {},
   "outputs": [],
   "source": [
    "# Setting the hypothesis test\n",
    "\n",
    "# The first thing is to understand the problem: do mean blood pressure ou the population from the Honolulu Heart \n",
    "# Study is very far from the results of the general population?\n",
    "\n",
    "# We have to set the null hypothesis and see if we can reject is\n",
    "\n",
    "# H0 is sp_mean = pop_mean"
   ]
  },
  {
   "cell_type": "code",
   "execution_count": 8,
   "id": "4d28e2ff",
   "metadata": {},
   "outputs": [
    {
     "name": "stdout",
     "output_type": "stream",
     "text": [
      "Z score is 4.761904761904759\n"
     ]
    }
   ],
   "source": [
    "# Lets calculate! \n",
    "\n",
    "# Because we know the std deviation and the sample size is over 30, we use a Z_score\n",
    "\n",
    "# We want to compare the means in both directions, left and right. So, it is a 2 tales test\n",
    "\n",
    "sample_mean = 130.1\n",
    "pop_mean = 120\n",
    "pop_std = 21.21\n",
    "n = 100\n",
    "\n",
    "z_score = (sample_mean - pop_mean) / (pop_std/math.sqrt(n))\n",
    "print('Z score is', z_score)"
   ]
  },
  {
   "cell_type": "code",
   "execution_count": 9,
   "id": "4d60cdcd",
   "metadata": {
    "scrolled": true
   },
   "outputs": [
    {
     "name": "stdout",
     "output_type": "stream",
     "text": [
      "P value is 0.9999990411290555\n"
     ]
    }
   ],
   "source": [
    "p_value = norm.cdf(z_score)\n",
    "print('P value is', p_value)"
   ]
  },
  {
   "cell_type": "code",
   "execution_count": null,
   "id": "cee3b0d3",
   "metadata": {},
   "outputs": [],
   "source": [
    "# We set the alpha for 5%, the industry standard\n",
    "\n",
    "# To see if we reject the H0, we compare the p-value to the alpha\n",
    "\n",
    "# Because it is a 2 taled test, we divide the alpha for 2\n",
    "\n",
    "## Conclusion: \n",
    "# we found a p_value of 0.99, and it is smaller than 2.5 (alpha/2)\n",
    "# since the p_value is lower than alpha, we are 95% confident that the mean value of both populations is different"
   ]
  }
 ],
 "metadata": {
  "kernelspec": {
   "display_name": "Python 3 (ipykernel)",
   "language": "python",
   "name": "python3"
  },
  "language_info": {
   "codemirror_mode": {
    "name": "ipython",
    "version": 3
   },
   "file_extension": ".py",
   "mimetype": "text/x-python",
   "name": "python",
   "nbconvert_exporter": "python",
   "pygments_lexer": "ipython3",
   "version": "3.11.3"
  }
 },
 "nbformat": 4,
 "nbformat_minor": 5
}
