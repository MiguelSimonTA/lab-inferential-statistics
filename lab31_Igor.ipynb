{
 "cells": [
  {
   "cell_type": "markdown",
   "id": "926e735d",
   "metadata": {},
   "source": [
    "# Lab | Inferential statistics\n",
    "\n",
    "Instructions\n",
    "\n",
    "It is assumed that the mean systolic blood pressure is μ = 120 mm Hg. In the Honolulu Heart Study, a sample of n = 100 people had an average systolic blood pressure of 130.1 mm Hg with a standard deviation of 21.21 mm Hg. Is the group significantly different (with respect to systolic blood pressure!) from the regular population?\n",
    "\n",
    "Set up the hypothesis test.\n",
    "Write down all the steps followed for setting up the test.\n",
    "Calculate the test statistic. It should be 4.76190. We will take a look at how to make decisions based on this calculated value."
   ]
  },
  {
   "cell_type": "code",
   "execution_count": 1,
   "id": "2f6cf1f2",
   "metadata": {},
   "outputs": [],
   "source": [
    "import pandas as pd\n",
    "import scipy.stats as stats"
   ]
  },
  {
   "cell_type": "code",
   "execution_count": 2,
   "id": "4186cb23",
   "metadata": {},
   "outputs": [],
   "source": [
    "pop_mean = 120\n",
    "sample_mean = 130.1\n",
    "pop_std = 21.21\n",
    "n = 100"
   ]
  },
  {
   "cell_type": "code",
   "execution_count": 3,
   "id": "8fdbca24",
   "metadata": {},
   "outputs": [
    {
     "name": "stdout",
     "output_type": "stream",
     "text": [
      "4.761904761904759\n"
     ]
    }
   ],
   "source": [
    "from statistics import math\n",
    "\n",
    "statistic = (sample_mean - pop_mean)/(pop_std/math.sqrt(n))\n",
    "print (statistic)"
   ]
  },
  {
   "cell_type": "code",
   "execution_count": 5,
   "id": "8cce2404",
   "metadata": {},
   "outputs": [
    {
     "name": "stdout",
     "output_type": "stream",
     "text": [
      "p-value: 6.562701817208617e-06\n"
     ]
    }
   ],
   "source": [
    "degrees_of_freedom = n - 1\n",
    "\n",
    "p_value = stats.t.sf(abs(statistic), degrees_of_freedom) * 2\n",
    "\n",
    "print('p-value:', p_value)"
   ]
  },
  {
   "cell_type": "code",
   "execution_count": 10,
   "id": "e104c95e",
   "metadata": {},
   "outputs": [
    {
     "name": "stdout",
     "output_type": "stream",
     "text": [
      "Reject Sample\n"
     ]
    }
   ],
   "source": [
    "if p_value < 0.05:\n",
    "    print ('Reject Sample')\n",
    "else:\n",
    "    print('Dont Reject Sample')"
   ]
  },
  {
   "cell_type": "markdown",
   "id": "d4553960",
   "metadata": {},
   "source": [
    "Since the p-value is lower than the significance level, we reject the null hypothesis."
   ]
  }
 ],
 "metadata": {
  "kernelspec": {
   "display_name": "Python 3 (ipykernel)",
   "language": "python",
   "name": "python3"
  },
  "language_info": {
   "codemirror_mode": {
    "name": "ipython",
    "version": 3
   },
   "file_extension": ".py",
   "mimetype": "text/x-python",
   "name": "python",
   "nbconvert_exporter": "python",
   "pygments_lexer": "ipython3",
   "version": "3.9.13"
  }
 },
 "nbformat": 4,
 "nbformat_minor": 5
}
